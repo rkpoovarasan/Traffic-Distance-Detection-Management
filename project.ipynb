{
 "cells": [
  {
   "cell_type": "code",
   "execution_count": 1,
   "metadata": {},
   "outputs": [],
   "source": [
    "import cv2 as c\n",
    "import numpy as np\n",
    "import pandas as pd\n",
    "import seaborn as sns\n",
    "import time as t\n",
    "import matplotlib.pyplot as plt\n",
    "%matplotlib inline"
   ]
  },
  {
   "cell_type": "code",
   "execution_count": 2,
   "metadata": {},
   "outputs": [
    {
     "data": {
      "text/html": [
       "<div>\n",
       "<style scoped>\n",
       "    .dataframe tbody tr th:only-of-type {\n",
       "        vertical-align: middle;\n",
       "    }\n",
       "\n",
       "    .dataframe tbody tr th {\n",
       "        vertical-align: top;\n",
       "    }\n",
       "\n",
       "    .dataframe thead th {\n",
       "        text-align: right;\n",
       "    }\n",
       "</style>\n",
       "<table border=\"1\" class=\"dataframe\">\n",
       "  <thead>\n",
       "    <tr style=\"text-align: right;\">\n",
       "      <th></th>\n",
       "      <th>DISTANCE(m)</th>\n",
       "      <th>TIME(sec)</th>\n",
       "      <th>Unnamed: 2</th>\n",
       "    </tr>\n",
       "  </thead>\n",
       "  <tbody>\n",
       "    <tr>\n",
       "      <th>0</th>\n",
       "      <td>0</td>\n",
       "      <td>0</td>\n",
       "      <td>NaN</td>\n",
       "    </tr>\n",
       "    <tr>\n",
       "      <th>1</th>\n",
       "      <td>4</td>\n",
       "      <td>8</td>\n",
       "      <td>NaN</td>\n",
       "    </tr>\n",
       "    <tr>\n",
       "      <th>2</th>\n",
       "      <td>8</td>\n",
       "      <td>16</td>\n",
       "      <td>NaN</td>\n",
       "    </tr>\n",
       "    <tr>\n",
       "      <th>3</th>\n",
       "      <td>12</td>\n",
       "      <td>24</td>\n",
       "      <td>NaN</td>\n",
       "    </tr>\n",
       "    <tr>\n",
       "      <th>4</th>\n",
       "      <td>16</td>\n",
       "      <td>32</td>\n",
       "      <td>NaN</td>\n",
       "    </tr>\n",
       "  </tbody>\n",
       "</table>\n",
       "</div>"
      ],
      "text/plain": [
       "   DISTANCE(m)  TIME(sec)  Unnamed: 2\n",
       "0            0          0         NaN\n",
       "1            4          8         NaN\n",
       "2            8         16         NaN\n",
       "3           12         24         NaN\n",
       "4           16         32         NaN"
      ]
     },
     "execution_count": 2,
     "metadata": {},
     "output_type": "execute_result"
    }
   ],
   "source": [
    "df=pd.read_csv('timecondition.csv')\n",
    "df.head()"
   ]
  },
  {
   "cell_type": "code",
   "execution_count": 3,
   "metadata": {},
   "outputs": [],
   "source": [
    "df.rename(columns={\"DISTANCE(m)\":'DISTANCE',\"TIME(sec)\":'TIME'},inplace=True)"
   ]
  },
  {
   "cell_type": "code",
   "execution_count": 4,
   "metadata": {},
   "outputs": [],
   "source": [
    "data=df[['DISTANCE','TIME']]"
   ]
  },
  {
   "cell_type": "code",
   "execution_count": 5,
   "metadata": {},
   "outputs": [],
   "source": [
    "# split the dataset into train and test\n",
    "msk = np.random.rand(len(data)) < 0.8\n",
    "train = data[msk]\n",
    "test = data[~msk]"
   ]
  },
  {
   "cell_type": "code",
   "execution_count": 6,
   "metadata": {},
   "outputs": [],
   "source": [
    "X_train = np.asanyarray(train[['DISTANCE']])\n",
    "Y_train= np.asanyarray(train[['TIME']])\n",
    "X_test= np.asanyarray(test[['DISTANCE']])\n",
    "Y_test=np.asanyarray(test[['TIME']])"
   ]
  },
  {
   "cell_type": "code",
   "execution_count": 7,
   "metadata": {},
   "outputs": [
    {
     "data": {
      "text/plain": [
       "LinearRegression()"
      ]
     },
     "execution_count": 7,
     "metadata": {},
     "output_type": "execute_result"
    }
   ],
   "source": [
    "from sklearn.linear_model import LinearRegression\n",
    "regressor=LinearRegression()\n",
    "regressor.fit(X_train,Y_train)"
   ]
  },
  {
   "cell_type": "code",
   "execution_count": 8,
   "metadata": {},
   "outputs": [],
   "source": [
    "Y_pred=regressor.predict(X_test)"
   ]
  },
  {
   "cell_type": "code",
   "execution_count": 9,
   "metadata": {},
   "outputs": [
    {
     "data": {
      "text/plain": [
       "Text(0, 0.5, 'time')"
      ]
     },
     "execution_count": 9,
     "metadata": {},
     "output_type": "execute_result"
    },
    {
     "data": {
      "image/png": "[encoded data removed]",
      "text/plain": [
       "<Figure size 432x288 with 1 Axes>"
      ]
     },
     "metadata": {
      "needs_background": "light"
     },
     "output_type": "display_data"
    }
   ],
   "source": [
    "plt.scatter(X_train, Y_train, color = 'red')\n",
    "plt.plot(X_train, regressor.predict(X_train), color = 'blue')\n",
    "plt.title('distance vs time (Test set)')\n",
    "plt.xlabel('distance')\n",
    "plt.ylabel('time')"
   ]
  },
  {
   "cell_type": "code",
   "execution_count": 10,
   "metadata": {},
   "outputs": [
    {
     "name": "stdout",
     "output_type": "stream",
     "text": [
      "1.0\n"
     ]
    }
   ],
   "source": [
    "from sklearn.metrics import r2_score\n",
    "print(r2_score(Y_pred,Y_test))"
   ]
  },
  {
   "cell_type": "code",
   "execution_count": 11,
   "metadata": {},
   "outputs": [
    {
     "name": "stdout",
     "output_type": "stream",
     "text": [
      "200.0\n"
     ]
    }
   ],
   "source": [
    "print(round(regressor.predict([[100]])[0][0],1))"
   ]
  },
  {
   "cell_type": "code",
   "execution_count": 12,
   "metadata": {},
   "outputs": [],
   "source": [
    "# load yolo\n",
    "net=c.dnn.readNet(\"yolov3.weights\",\"yolov3.cfg\")\n",
    "classes=[]\n",
    "with open(\"coco.names\",\"r\") as f:\n",
    "    classes=[line.strip() for line in f.readlines()]\n",
    "layer_names=net.getLayerNames()\n",
    "output_layers=[layer_names[i[0]-1] for i in net.getUnconnectedOutLayers()]"
   ]
  },
  {
   "cell_type": "code",
   "execution_count": 14,
   "metadata": {},
   "outputs": [
    {
     "name": "stdout",
     "output_type": "stream",
     "text": [
      "time is:132 sec\n",
      "time is:142 sec\n",
      "time is:132 sec\n",
      "time is:314 sec\n",
      "time is:314 sec\n",
      "time is:314 sec\n",
      "time is:374 sec\n",
      "time is:374 sec\n",
      "time is:332 sec\n",
      "time is:300 sec\n",
      "time is:300 sec\n",
      "time is:332 sec\n",
      "time is:284 sec\n",
      "time is:332 sec\n",
      "time is:132 sec\n",
      "time is:374 sec\n",
      "time is:332 sec\n",
      "time is:352 sec\n",
      "time is:314 sec\n"
     ]
    }
   ],
   "source": [
    "# detecting objects\n",
    "cap = c.VideoCapture(\"traffic.mp4\")\n",
    "font = c.FONT_HERSHEY_PLAIN\n",
    "#cap.set(3,120)\n",
    "#cap.set(4,300)\n",
    "#cap.set(3,1280)#set frme for height\n",
    "#cap.set(4,720)#set frame for height\n",
    "while(cap.isOpened()):\n",
    "    _,img=cap.read()\n",
    "    #img=c.resize(img,(400,500))\n",
    "    height, width, channels = img.shape\n",
    "    blob = c.dnn.blobFromImage(img, 0.00392, (416, 416), (0, 0, 0), True, crop=False)\n",
    "    net.setInput(blob)\n",
    "    outs=net.forward(output_layers)\n",
    "    class_ids = []\n",
    "    confidences = []\n",
    "    boxes = []\n",
    "    for out in outs:\n",
    "        for detection in out:\n",
    "            scores = detection[5:]\n",
    "            class_id = np.argmax(scores)\n",
    "            confidence = scores[class_id]\n",
    "            if confidence > 0.2:\n",
    "                # Object detected\n",
    "                center_x = int(detection[0] * width)\n",
    "                center_y = int(detection[1] * height)\n",
    "                w = int(detection[2] * width)\n",
    "                h = int(detection[3] * height)\n",
    "                x = int(center_x - w / 2)\n",
    "                y = int(center_y - h / 2)\n",
    "                boxes.append([x, y, w, h])\n",
    "                confidences.append(float(confidence))\n",
    "                class_ids.append(class_id)\n",
    "    indexes = c.dnn.NMSBoxes(boxes, confidences, 0.4, 0.3) \n",
    "    tx,ty,tw,th=0,1000,0,0\n",
    "    for i in range(len(boxes)):\n",
    "        if i in indexes:\n",
    "            x,y,w,h=boxes[i]\n",
    "            if(ty>y):\n",
    "                ty=y\n",
    "                tx=x\n",
    "                tw=w\n",
    "                th=h\n",
    "            #label=str(classes[class_ids[i]])\n",
    "    #print(tx,ty,tw,th)\n",
    "    c.rectangle(img, (tx, ty), (tx + tw, ty + th),(0,255,0), 2)\n",
    "    if(tw!=0):\n",
    "        dist=(10)*(300/tw)\n",
    "        out=int(dist)\n",
    "        time=round(regressor.predict([[out]])[0][0],1)\n",
    "        time=int(time)\n",
    "        text=\"time is:\"+str(time)+\" sec\"\n",
    "        c.putText(img,text,(tx,ty),font,1,(0,255,255),2,c.LINE_AA)\n",
    "        c.circle(img, (200, 200), 30, (0, 255, 0), -1)\n",
    "        for i in range(time*1000):\n",
    "            c.circle(img, (200, 200), 30, (0, 0,255), -1) \n",
    "            \n",
    "        print(text)\n",
    "            #c.putText(img, label , (x, y + 30), font, 2, (0,0,0), 2) \n",
    "    if(c.waitKey(1) & 0xFF == ord('q')):\n",
    "        break        \n",
    "    c.imshow('Image',img)\n",
    "cap.release()\n",
    "c.destroyAllWindows()"
   ]
  },
  {
   "cell_type": "code",
   "execution_count": 16,
   "metadata": {},
   "outputs": [
    {
     "name": "stdout",
     "output_type": "stream",
     "text": [
      "0 0\n",
      "856 666\n",
      "856 600\n",
      "856 600\n",
      "1000 600\n",
      "1000 666\n",
      "1000 600\n",
      "1000 214\n",
      "1000 230\n",
      "1000 222\n",
      "856 214\n",
      "1000 500\n",
      "856 544\n",
      "856 500\n",
      "1000 544\n",
      "1000 400\n",
      "750 214\n",
      "400 428\n",
      "400 600\n",
      "374 214\n",
      "400 460\n",
      "400 428\n",
      "428 544\n"
     ]
    }
   ],
   "source": [
    "cap = c.VideoCapture(\"traffic.mp4\")\n",
    "cap1=c.VideoCapture(\"moving.mp4\")\n",
    "font = c.FONT_HERSHEY_PLAIN\n",
    "time1,time=0,0\n",
    "while(cap.isOpened() or cap1.isOpened()):\n",
    "    _,img=cap.read()\n",
    "    img=c.resize(img,(400,500))\n",
    "    height, width, channels = img.shape\n",
    "    blob = c.dnn.blobFromImage(img, 0.00392, (416, 416), (0, 0, 0), True, crop=False)\n",
    "    net.setInput(blob)\n",
    "    outs=net.forward(output_layers)\n",
    "    class_ids = []\n",
    "    confidences = []\n",
    "    boxes = []\n",
    "    for out in outs:\n",
    "        for detection in out:\n",
    "            scores = detection[5:]\n",
    "            class_id = np.argmax(scores)\n",
    "            confidence = scores[class_id]\n",
    "            if confidence > 0.2:\n",
    "                # Object detected\n",
    "                center_x = int(detection[0] * width)\n",
    "                center_y = int(detection[1] * height)\n",
    "                w = int(detection[2] * width)\n",
    "                h = int(detection[3] * height)\n",
    "                x = int(center_x - w / 2)\n",
    "                y = int(center_y - h / 2)\n",
    "                boxes.append([x, y, w, h])\n",
    "                confidences.append(float(confidence))\n",
    "                class_ids.append(class_id)\n",
    "    indexes = c.dnn.NMSBoxes(boxes, confidences, 0.4, 0.3) \n",
    "    tx,ty,tw,th=0,1000,0,0\n",
    "    for i in range(len(boxes)):\n",
    "        if i in indexes:\n",
    "            x,y,w,h=boxes[i]\n",
    "            if(ty>y):\n",
    "                ty=y\n",
    "                tx=x\n",
    "                tw=w\n",
    "                th=h\n",
    "            #label=str(classes[class_ids[i]])\n",
    "    #print(tx,ty,tw,th)\n",
    "    c.rectangle(img, (tx, ty), (tx + tw, ty + th),(0,255,0), 2)\n",
    "    if(tw!=0):\n",
    "        dist=(10)*(300/tw)\n",
    "        out=int(dist)\n",
    "        time=round(regressor.predict([[out]])[0][0],1)\n",
    "        time=int(time)\n",
    "        c.putText(img,text,(tx,ty),font,1,(0,255,255),2,c.LINE_AA)\n",
    "        c.circle(img, (200, 200), 30, (0, 255, 0), -1)\n",
    "        \n",
    "    _,img1=cap1.read()\n",
    "    img1=c.resize(img1,(400,500))\n",
    "    height1,width1,channels=img1.shape\n",
    "    blob1 = c.dnn.blobFromImage(img1, 0.00392, (416, 416), (0, 0, 0), True, crop=False)\n",
    "    net.setInput(blob1)\n",
    "    outs1=net.forward(output_layers)\n",
    "    class_ids1 = []\n",
    "    confidences1 = []\n",
    "    boxes1 = []\n",
    "    for out in outs1:\n",
    "        for detection in out:\n",
    "            scores = detection[5:]\n",
    "            class_id = np.argmax(scores)\n",
    "            confidence = scores[class_id]\n",
    "            if confidence > 0.2:\n",
    "                # Object detected\n",
    "                center_x = int(detection[0] * width)\n",
    "                center_y = int(detection[1] * height)\n",
    "                w = int(detection[2] * width)\n",
    "                h = int(detection[3] * height)\n",
    "                x = int(center_x - w / 2)\n",
    "                y = int(center_y - h / 2)\n",
    "                boxes1.append([x, y, w, h])\n",
    "                confidences1.append(float(confidence))\n",
    "                class_ids1.append(class_id)\n",
    "    indexes1 = c.dnn.NMSBoxes(boxes1, confidences1, 0.4, 0.3)\n",
    "    tx1,ty1,tw1,th1=0,1000,0,0\n",
    "    for i in range(len(boxes1)):\n",
    "        if i in indexes:\n",
    "            x,y,w,h=boxes1[i]\n",
    "            if(ty1>y):\n",
    "                ty1=y\n",
    "                tx1=x\n",
    "                tw1=w\n",
    "                th1=h\n",
    "    c.rectangle(img1, (tx1, ty1), (tx1 + tw1, ty1 + th1),(0,255,0), 2)\n",
    "    if(tw1!=0):\n",
    "        dist1=(10)*(300/tw1)\n",
    "        out1=int(dist1)\n",
    "        time1=round(regressor.predict([[out1]])[0][0],1)\n",
    "        time1=int(time1)\n",
    "        c.circle(img1, (200, 200), 30, (0, 0,255), -1)\n",
    "    print(time,time1)    \n",
    "    if(time1<time):\n",
    "        for i in range(0,time*1000):\n",
    "            c.circle(img, (200, 200), 30, (0, 255,0), -1)\n",
    "    elif(time<time1):\n",
    "        for i in range(0,time*1000):\n",
    "            c.circle(img1, (200, 200), 30, (0, 255,0), -1)\n",
    "            \n",
    "    if(c.waitKey(1) & 0xFF == ord('q')):\n",
    "        break        \n",
    "    c.imshow('Image',img)\n",
    "    c.imshow('image2',img1)\n",
    "cap.release()\n",
    "c.destroyAllWindows()"
   ]
  }
 ],
 "metadata": {
  "kernelspec": {
   "display_name": "Python 3",
   "language": "python",
   "name": "python3"
  },
  "language_info": {
   "codemirror_mode": {
    "name": "ipython",
    "version": 3
   },
   "file_extension": ".py",
   "mimetype": "text/x-python",
   "name": "python",
   "nbconvert_exporter": "python",
   "pygments_lexer": "ipython3",
   "version": "3.8.3"
  }
 },
 "nbformat": 4,
 "nbformat_minor": 4
}
